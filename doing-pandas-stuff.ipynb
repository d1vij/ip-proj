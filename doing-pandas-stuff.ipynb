{
 "cells": [
  {
   "cell_type": "code",
   "execution_count": null,
   "id": "063135fc",
   "metadata": {},
   "outputs": [
    {
     "ename": "",
     "evalue": "",
     "output_type": "error",
     "traceback": [
      "\u001b[1;31mThe kernel failed to start as the Python Environment 'Python 3.12.3' is no longer available. Consider selecting another kernel or refreshing the list of Python Environments."
     ]
    }
   ],
   "source": [
    "import matplotlib.pyplot as plt\n",
    "from pprint import pp\n",
    "from preprocessing_to_pandas_stuff import create_dataframes"
   ]
  },
  {
   "cell_type": "code",
   "execution_count": null,
   "id": "1da851f4",
   "metadata": {},
   "outputs": [],
   "source": [
    "dataframes = create_dataframes()"
   ]
  },
  {
   "cell_type": "code",
   "execution_count": null,
   "id": "8f811841",
   "metadata": {},
   "outputs": [],
   "source": [
    "vcb = dataframes[\"Vice Captain Boy\"]"
   ]
  },
  {
   "cell_type": "code",
   "execution_count": null,
   "id": "afc641d6",
   "metadata": {},
   "outputs": [],
   "source": [
    "pp(vcb)"
   ]
  },
  {
   "cell_type": "code",
   "execution_count": null,
   "id": "be66e545",
   "metadata": {},
   "outputs": [],
   "source": [
    "seg = vcb.loc[vcb.index.str.startswith('11')]\n",
    "print(seg)"
   ]
  },
  {
   "cell_type": "code",
   "execution_count": null,
   "id": "afdc2736",
   "metadata": {},
   "outputs": [],
   "source": [
    "kausar = seg[\"Kausar Chandra\"]\n",
    "pp(kausar)"
   ]
  },
  {
   "cell_type": "code",
   "execution_count": null,
   "id": "ab86f0a0",
   "metadata": {},
   "outputs": [],
   "source": [
    "# classes where candidates have votes 0\n",
    "\n",
    "seg.loc[:,\"Avaneesh Mahalle\"]"
   ]
  },
  {
   "cell_type": "code",
   "execution_count": null,
   "id": "725be3a1",
   "metadata": {},
   "outputs": [],
   "source": [
    "cb = dataframes[\"Captain Boy\"]"
   ]
  },
  {
   "cell_type": "code",
   "execution_count": null,
   "id": "00b6e0fc",
   "metadata": {},
   "outputs": [],
   "source": [
    "print(cb)"
   ]
  },
  {
   "cell_type": "code",
   "execution_count": null,
   "id": "bd593078",
   "metadata": {},
   "outputs": [],
   "source": [
    "print(cb.sum())"
   ]
  },
  {
   "cell_type": "code",
   "execution_count": null,
   "id": "765a5a27",
   "metadata": {},
   "outputs": [],
   "source": [
    "cb.max()"
   ]
  },
  {
   "cell_type": "code",
   "execution_count": null,
   "id": "c5017aed",
   "metadata": {},
   "outputs": [],
   "source": [
    "# mean votes per class\n",
    "cb.mean()"
   ]
  },
  {
   "cell_type": "code",
   "execution_count": null,
   "id": "0fdda9e4",
   "metadata": {},
   "outputs": [],
   "source": [
    "cb.median()"
   ]
  },
  {
   "cell_type": "code",
   "execution_count": null,
   "id": "67ffaa97",
   "metadata": {},
   "outputs": [],
   "source": [
    "cb.mode()"
   ]
  },
  {
   "cell_type": "code",
   "execution_count": null,
   "id": "57d0cb29",
   "metadata": {},
   "outputs": [],
   "source": [
    "%pip install pandas"
   ]
  },
  {
   "cell_type": "code",
   "execution_count": null,
   "id": "9195ef2e",
   "metadata": {},
   "outputs": [],
   "source": [
    "# class where candidate scored the least\n",
    "cb.idxmin()"
   ]
  },
  {
   "cell_type": "code",
   "execution_count": null,
   "id": "41641afe",
   "metadata": {},
   "outputs": [],
   "source": [
    "# class where candidate scored max\n",
    "cb.idxmax()"
   ]
  },
  {
   "cell_type": "code",
   "execution_count": null,
   "id": "37f7aa0d",
   "metadata": {},
   "outputs": [],
   "source": [
    "# which candidate scored majority in a particular class\n",
    "cb.idxmax(1).iloc[:10]"
   ]
  },
  {
   "cell_type": "code",
   "execution_count": null,
   "id": "6e668fb6",
   "metadata": {},
   "outputs": [],
   "source": [
    "# class where aditya scored max\n",
    "cb[\"Aadityaraje Desai\"].idxmax()"
   ]
  },
  {
   "cell_type": "code",
   "execution_count": null,
   "id": "a5e63c72",
   "metadata": {},
   "outputs": [],
   "source": [
    "cb.idxmax()[\"Aadityaraje Desai\"]"
   ]
  },
  {
   "cell_type": "code",
   "execution_count": null,
   "id": "f36fb5c8",
   "metadata": {},
   "outputs": [],
   "source": [
    "cb.max()"
   ]
  },
  {
   "cell_type": "code",
   "execution_count": null,
   "id": "c942668a",
   "metadata": {},
   "outputs": [],
   "source": [
    "cb.idxmax(1).iloc[:10]"
   ]
  },
  {
   "cell_type": "code",
   "execution_count": null,
   "id": "1b384fb5",
   "metadata": {},
   "outputs": [],
   "source": [
    "cb.loc[\"10B\"]"
   ]
  },
  {
   "cell_type": "code",
   "execution_count": null,
   "id": "d49b9436",
   "metadata": {},
   "outputs": [],
   "source": [
    "# which student got higheest marks in 10b\n",
    "cb.loc[\"10B\"].idxmax()"
   ]
  },
  {
   "cell_type": "code",
   "execution_count": null,
   "id": "ca6a64e4",
   "metadata": {},
   "outputs": [],
   "source": [
    "cb"
   ]
  },
  {
   "cell_type": "code",
   "execution_count": null,
   "id": "80bba9ca",
   "metadata": {},
   "outputs": [],
   "source": [
    "# average votes per student\n",
    "cb.mean()"
   ]
  },
  {
   "cell_type": "code",
   "execution_count": null,
   "id": "53e8cbd9",
   "metadata": {},
   "outputs": [],
   "source": [
    "# mode of votes per studnet\n",
    "cb.mode()"
   ]
  },
  {
   "cell_type": "code",
   "execution_count": null,
   "id": "77dd25ba",
   "metadata": {},
   "outputs": [],
   "source": [
    "# median votes per student\n",
    "cb.median()"
   ]
  },
  {
   "cell_type": "code",
   "execution_count": null,
   "id": "90d3d8f6",
   "metadata": {},
   "outputs": [],
   "source": [
    "hello"
   ]
  }
 ],
 "metadata": {
  "kernelspec": {
   "display_name": "Python 3",
   "language": "python",
   "name": "python3"
  },
  "language_info": {
   "codemirror_mode": {
    "name": "ipython",
    "version": 3
   },
   "file_extension": ".py",
   "mimetype": "text/x-python",
   "name": "python",
   "nbconvert_exporter": "python",
   "pygments_lexer": "ipython3",
   "version": "3.12.3"
  }
 },
 "nbformat": 4,
 "nbformat_minor": 5
}
