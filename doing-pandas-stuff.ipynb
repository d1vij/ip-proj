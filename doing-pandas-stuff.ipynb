{
 "cells": [
  {
   "cell_type": "code",
   "execution_count": 3,
   "id": "063135fc",
   "metadata": {},
   "outputs": [],
   "source": [
    "import matplotlib.pyplot as plt\n",
    "from pprint import pp\n",
    "from preprocessing_to_pandas_stuff import create_dataframes"
   ]
  },
  {
   "cell_type": "code",
   "execution_count": 4,
   "id": "1da851f4",
   "metadata": {},
   "outputs": [],
   "source": [
    "dataframes = create_dataframes()"
   ]
  },
  {
   "cell_type": "code",
   "execution_count": 5,
   "id": "8f811841",
   "metadata": {},
   "outputs": [],
   "source": [
    "vcb = dataframes[\"Vice Captain Boy\"]"
   ]
  },
  {
   "cell_type": "code",
   "execution_count": 6,
   "id": "afc641d6",
   "metadata": {},
   "outputs": [
    {
     "name": "stdout",
     "output_type": "stream",
     "text": [
      "            Kausar Chandra  Sagnik Ghosh  Avaneesh Mahalle  Krishna Yadav  \\\n",
      "10A                      3             1                 3              3   \n",
      "10B                      3             1                 4              1   \n",
      "10C                      1             3                 4              2   \n",
      "10D                      4             2                 5              1   \n",
      "10E                      4             0                 6              2   \n",
      "10F                      0             4                 2              2   \n",
      "10G                      1             0                 7              1   \n",
      "10H                      0             0                 9              2   \n",
      "10I                      5             3                 7              2   \n",
      "10J                      6             2                 6              1   \n",
      "11A                      2             5                10              1   \n",
      "11B                      3             0                 1              1   \n",
      "11C                      0             0                 0              0   \n",
      "11D                      0             0                 0              0   \n",
      "11E                      2             0                 7              3   \n",
      "12A                      2             1                 0              1   \n",
      "12B                      1             0                 3              1   \n",
      "12C                      3             2                 0              0   \n",
      "12D                      3             1                 1              4   \n",
      "9A                       4             1                 2              3   \n",
      "9B                       6             0                 3              3   \n",
      "9C                       8             0                 6              3   \n",
      "9D                       0             2                13              7   \n",
      "9E                       2             1                 4              6   \n",
      "9F                       1             1                 7              5   \n",
      "9G                       5             0                 7              3   \n",
      "9H                       3             0                 5              4   \n",
      "9I                       3             1                 3              5   \n",
      "9J                       2             2                 3              8   \n",
      "absentees                5             2                 4              1   \n",
      "candidates               0             1                 4              1   \n",
      "\n",
      "            Viren Jadhav  \n",
      "10A                    0  \n",
      "10B                    1  \n",
      "10C                    4  \n",
      "10D                    1  \n",
      "10E                    0  \n",
      "10F                    3  \n",
      "10G                    2  \n",
      "10H                    0  \n",
      "10I                    0  \n",
      "10J                    0  \n",
      "11A                    3  \n",
      "11B                    0  \n",
      "11C                    0  \n",
      "11D                    0  \n",
      "11E                    0  \n",
      "12A                    0  \n",
      "12B                    1  \n",
      "12C                    3  \n",
      "12D                    0  \n",
      "9A                     6  \n",
      "9B                     1  \n",
      "9C                     4  \n",
      "9D                     0  \n",
      "9E                     3  \n",
      "9F                     4  \n",
      "9G                     1  \n",
      "9H                     3  \n",
      "9I                     4  \n",
      "9J                     6  \n",
      "absentees              3  \n",
      "candidates             1  \n"
     ]
    }
   ],
   "source": [
    "pp(vcb)"
   ]
  },
  {
   "cell_type": "code",
   "execution_count": 7,
   "id": "be66e545",
   "metadata": {},
   "outputs": [
    {
     "name": "stdout",
     "output_type": "stream",
     "text": [
      "     Kausar Chandra  Sagnik Ghosh  Avaneesh Mahalle  Krishna Yadav  \\\n",
      "11A               2             5                10              1   \n",
      "11B               3             0                 1              1   \n",
      "11C               0             0                 0              0   \n",
      "11D               0             0                 0              0   \n",
      "11E               2             0                 7              3   \n",
      "\n",
      "     Viren Jadhav  \n",
      "11A             3  \n",
      "11B             0  \n",
      "11C             0  \n",
      "11D             0  \n",
      "11E             0  \n"
     ]
    }
   ],
   "source": [
    "seg = vcb.loc[vcb.index.str.startswith('11')]\n",
    "print(seg)"
   ]
  },
  {
   "cell_type": "code",
   "execution_count": 8,
   "id": "afdc2736",
   "metadata": {},
   "outputs": [
    {
     "name": "stdout",
     "output_type": "stream",
     "text": [
      "11A    2\n",
      "11B    3\n",
      "11C    0\n",
      "11D    0\n",
      "11E    2\n",
      "Name: Kausar Chandra, dtype: int64\n"
     ]
    }
   ],
   "source": [
    "kausar = seg[\"Kausar Chandra\"]\n",
    "pp(kausar)"
   ]
  },
  {
   "cell_type": "code",
   "execution_count": 9,
   "id": "ab86f0a0",
   "metadata": {},
   "outputs": [
    {
     "data": {
      "text/plain": [
       "11A    10\n",
       "11B     1\n",
       "11C     0\n",
       "11D     0\n",
       "11E     7\n",
       "Name: Avaneesh Mahalle, dtype: int64"
      ]
     },
     "execution_count": 9,
     "metadata": {},
     "output_type": "execute_result"
    }
   ],
   "source": [
    "# classes where candidates have votes 0\n",
    "\n",
    "seg.loc[:,\"Avaneesh Mahalle\"]"
   ]
  },
  {
   "cell_type": "code",
   "execution_count": 10,
   "id": "725be3a1",
   "metadata": {},
   "outputs": [],
   "source": [
    "cb = dataframes[\"Captain Boy\"]"
   ]
  },
  {
   "cell_type": "code",
   "execution_count": 11,
   "id": "00b6e0fc",
   "metadata": {},
   "outputs": [
    {
     "name": "stdout",
     "output_type": "stream",
     "text": [
      "            Aadityaraje Desai  Abhichandra Charke  Praneel Deshmukh  \\\n",
      "10A                         5                   3                 2   \n",
      "10B                         2                   2                 6   \n",
      "10C                         3                   7                 4   \n",
      "10D                         1                   3                 9   \n",
      "10E                         2                   1                 9   \n",
      "10F                         8                   0                 2   \n",
      "10G                         5                   1                 4   \n",
      "10H                         5                   1                 5   \n",
      "10I                         6                   4                 7   \n",
      "10J                         2                   2                11   \n",
      "11A                         9                   1                 9   \n",
      "11B                         2                   1                 1   \n",
      "11C                         0                   0                 0   \n",
      "11D                         0                   0                 0   \n",
      "11E                         4                   5                 3   \n",
      "12A                         3                   0                 1   \n",
      "12B                         1                   1                 1   \n",
      "12C                         0                   0                 8   \n",
      "12D                         4                   4                 1   \n",
      "9A                         10                   0                 5   \n",
      "9B                          9                   0                 4   \n",
      "9C                         10                   5                 3   \n",
      "9D                         12                   2                 7   \n",
      "9E                          3                   8                 5   \n",
      "9F                          8                   3                 7   \n",
      "9G                          6                   5                 4   \n",
      "9H                          2                   2                11   \n",
      "9I                         11                   0                 5   \n",
      "9J                          7                   3                10   \n",
      "absentees                   4                   6                 4   \n",
      "candidates                  4                   0                 3   \n",
      "\n",
      "            Rachit Srivastava  \n",
      "10A                         0  \n",
      "10B                         0  \n",
      "10C                         0  \n",
      "10D                         0  \n",
      "10E                         0  \n",
      "10F                         1  \n",
      "10G                         1  \n",
      "10H                         0  \n",
      "10I                         0  \n",
      "10J                         0  \n",
      "11A                         2  \n",
      "11B                         1  \n",
      "11C                         0  \n",
      "11D                         0  \n",
      "11E                         0  \n",
      "12A                         0  \n",
      "12B                         3  \n",
      "12C                         0  \n",
      "12D                         0  \n",
      "9A                          1  \n",
      "9B                          0  \n",
      "9C                          3  \n",
      "9D                          1  \n",
      "9E                          0  \n",
      "9F                          0  \n",
      "9G                          1  \n",
      "9H                          0  \n",
      "9I                          0  \n",
      "9J                          1  \n",
      "absentees                   1  \n",
      "candidates                  0  \n"
     ]
    }
   ],
   "source": [
    "print(cb)"
   ]
  },
  {
   "cell_type": "code",
   "execution_count": 12,
   "id": "bd593078",
   "metadata": {},
   "outputs": [
    {
     "name": "stdout",
     "output_type": "stream",
     "text": [
      "Aadityaraje Desai     148\n",
      "Abhichandra Charke     70\n",
      "Praneel Deshmukh      151\n",
      "Rachit Srivastava      16\n",
      "dtype: int64\n"
     ]
    }
   ],
   "source": [
    "print(cb.sum())"
   ]
  },
  {
   "cell_type": "code",
   "execution_count": 13,
   "id": "765a5a27",
   "metadata": {},
   "outputs": [
    {
     "data": {
      "text/plain": [
       "Aadityaraje Desai     12\n",
       "Abhichandra Charke     8\n",
       "Praneel Deshmukh      11\n",
       "Rachit Srivastava      3\n",
       "dtype: int64"
      ]
     },
     "execution_count": 13,
     "metadata": {},
     "output_type": "execute_result"
    }
   ],
   "source": [
    "cb.max()"
   ]
  },
  {
   "cell_type": "code",
   "execution_count": 14,
   "id": "c5017aed",
   "metadata": {},
   "outputs": [
    {
     "data": {
      "text/plain": [
       "Aadityaraje Desai     4.774194\n",
       "Abhichandra Charke    2.258065\n",
       "Praneel Deshmukh      4.870968\n",
       "Rachit Srivastava     0.516129\n",
       "dtype: float64"
      ]
     },
     "execution_count": 14,
     "metadata": {},
     "output_type": "execute_result"
    }
   ],
   "source": [
    "# mean votes per class\n",
    "cb.mean()"
   ]
  },
  {
   "cell_type": "code",
   "execution_count": 15,
   "id": "0fdda9e4",
   "metadata": {},
   "outputs": [
    {
     "data": {
      "text/plain": [
       "Aadityaraje Desai     4.0\n",
       "Abhichandra Charke    2.0\n",
       "Praneel Deshmukh      4.0\n",
       "Rachit Srivastava     0.0\n",
       "dtype: float64"
      ]
     },
     "execution_count": 15,
     "metadata": {},
     "output_type": "execute_result"
    }
   ],
   "source": [
    "cb.median()"
   ]
  },
  {
   "cell_type": "code",
   "execution_count": 16,
   "id": "67ffaa97",
   "metadata": {},
   "outputs": [
    {
     "data": {
      "text/html": [
       "<div>\n",
       "<style scoped>\n",
       "    .dataframe tbody tr th:only-of-type {\n",
       "        vertical-align: middle;\n",
       "    }\n",
       "\n",
       "    .dataframe tbody tr th {\n",
       "        vertical-align: top;\n",
       "    }\n",
       "\n",
       "    .dataframe thead th {\n",
       "        text-align: right;\n",
       "    }\n",
       "</style>\n",
       "<table border=\"1\" class=\"dataframe\">\n",
       "  <thead>\n",
       "    <tr style=\"text-align: right;\">\n",
       "      <th></th>\n",
       "      <th>Aadityaraje Desai</th>\n",
       "      <th>Abhichandra Charke</th>\n",
       "      <th>Praneel Deshmukh</th>\n",
       "      <th>Rachit Srivastava</th>\n",
       "    </tr>\n",
       "  </thead>\n",
       "  <tbody>\n",
       "    <tr>\n",
       "      <th>0</th>\n",
       "      <td>2</td>\n",
       "      <td>0</td>\n",
       "      <td>4</td>\n",
       "      <td>0</td>\n",
       "    </tr>\n",
       "  </tbody>\n",
       "</table>\n",
       "</div>"
      ],
      "text/plain": [
       "   Aadityaraje Desai  Abhichandra Charke  Praneel Deshmukh  Rachit Srivastava\n",
       "0                  2                   0                 4                  0"
      ]
     },
     "execution_count": 16,
     "metadata": {},
     "output_type": "execute_result"
    }
   ],
   "source": [
    "cb.mode()"
   ]
  },
  {
   "cell_type": "code",
   "execution_count": 17,
   "id": "57d0cb29",
   "metadata": {},
   "outputs": [
    {
     "name": "stdout",
     "output_type": "stream",
     "text": [
      "Requirement already satisfied: pandas in ./venv/lib/python3.12/site-packages (2.3.1)\n",
      "Requirement already satisfied: numpy>=1.26.0 in ./venv/lib/python3.12/site-packages (from pandas) (2.3.2)\n",
      "Requirement already satisfied: python-dateutil>=2.8.2 in ./venv/lib/python3.12/site-packages (from pandas) (2.9.0.post0)\n",
      "Requirement already satisfied: pytz>=2020.1 in ./venv/lib/python3.12/site-packages (from pandas) (2025.2)\n",
      "Requirement already satisfied: tzdata>=2022.7 in ./venv/lib/python3.12/site-packages (from pandas) (2025.2)\n",
      "Requirement already satisfied: six>=1.5 in ./venv/lib/python3.12/site-packages (from python-dateutil>=2.8.2->pandas) (1.17.0)\n",
      "Note: you may need to restart the kernel to use updated packages.\n"
     ]
    }
   ],
   "source": [
    "%pip install pandas"
   ]
  },
  {
   "cell_type": "code",
   "execution_count": null,
   "id": "9195ef2e",
   "metadata": {},
   "outputs": [
    {
     "data": {
      "text/plain": [
       "Aadityaraje Desai     11C\n",
       "Abhichandra Charke    10F\n",
       "Praneel Deshmukh      11C\n",
       "Rachit Srivastava     10A\n",
       "dtype: object"
      ]
     },
     "execution_count": 18,
     "metadata": {},
     "output_type": "execute_result"
    }
   ],
   "source": [
    "# class where candidate scored the least\n",
    "cb.idxmin()"
   ]
  },
  {
   "cell_type": "code",
   "execution_count": null,
   "id": "41641afe",
   "metadata": {},
   "outputs": [
    {
     "data": {
      "text/plain": [
       "Aadityaraje Desai      9D\n",
       "Abhichandra Charke     9E\n",
       "Praneel Deshmukh      10J\n",
       "Rachit Srivastava     12B\n",
       "dtype: object"
      ]
     },
     "execution_count": 19,
     "metadata": {},
     "output_type": "execute_result"
    }
   ],
   "source": [
    "# class where candidate scored max\n",
    "cb.idxmax()"
   ]
  },
  {
   "cell_type": "code",
   "execution_count": 23,
   "id": "37f7aa0d",
   "metadata": {},
   "outputs": [
    {
     "data": {
      "text/plain": [
       "10A     Aadityaraje Desai\n",
       "10B      Praneel Deshmukh\n",
       "10C    Abhichandra Charke\n",
       "10D      Praneel Deshmukh\n",
       "10E      Praneel Deshmukh\n",
       "10F     Aadityaraje Desai\n",
       "10G     Aadityaraje Desai\n",
       "10H     Aadityaraje Desai\n",
       "10I      Praneel Deshmukh\n",
       "10J      Praneel Deshmukh\n",
       "dtype: object"
      ]
     },
     "execution_count": 23,
     "metadata": {},
     "output_type": "execute_result"
    }
   ],
   "source": [
    "# which candidate scored majority in a particular class\n",
    "cb.idxmax(1).iloc[:10]"
   ]
  },
  {
   "cell_type": "code",
   "execution_count": 24,
   "id": "6e668fb6",
   "metadata": {},
   "outputs": [
    {
     "data": {
      "text/plain": [
       "'9D'"
      ]
     },
     "execution_count": 24,
     "metadata": {},
     "output_type": "execute_result"
    }
   ],
   "source": [
    "# class where aditya scored max\n",
    "cb[\"Aadityaraje Desai\"].idxmax()"
   ]
  },
  {
   "cell_type": "code",
   "execution_count": 25,
   "id": "a5e63c72",
   "metadata": {},
   "outputs": [
    {
     "data": {
      "text/plain": [
       "'9D'"
      ]
     },
     "execution_count": 25,
     "metadata": {},
     "output_type": "execute_result"
    }
   ],
   "source": [
    "cb.idxmax()[\"Aadityaraje Desai\"]"
   ]
  },
  {
   "cell_type": "code",
   "execution_count": 28,
   "id": "f36fb5c8",
   "metadata": {},
   "outputs": [
    {
     "data": {
      "text/plain": [
       "Aadityaraje Desai     12\n",
       "Abhichandra Charke     8\n",
       "Praneel Deshmukh      11\n",
       "Rachit Srivastava      3\n",
       "dtype: int64"
      ]
     },
     "execution_count": 28,
     "metadata": {},
     "output_type": "execute_result"
    }
   ],
   "source": [
    "cb.max()"
   ]
  },
  {
   "cell_type": "code",
   "execution_count": 30,
   "id": "c942668a",
   "metadata": {},
   "outputs": [
    {
     "data": {
      "text/plain": [
       "10A     Aadityaraje Desai\n",
       "10B      Praneel Deshmukh\n",
       "10C    Abhichandra Charke\n",
       "10D      Praneel Deshmukh\n",
       "10E      Praneel Deshmukh\n",
       "10F     Aadityaraje Desai\n",
       "10G     Aadityaraje Desai\n",
       "10H     Aadityaraje Desai\n",
       "10I      Praneel Deshmukh\n",
       "10J      Praneel Deshmukh\n",
       "dtype: object"
      ]
     },
     "execution_count": 30,
     "metadata": {},
     "output_type": "execute_result"
    }
   ],
   "source": [
    "cb.idxmax(1).iloc[:10]"
   ]
  },
  {
   "cell_type": "code",
   "execution_count": 37,
   "id": "1b384fb5",
   "metadata": {},
   "outputs": [
    {
     "data": {
      "text/plain": [
       "Aadityaraje Desai     2\n",
       "Abhichandra Charke    2\n",
       "Praneel Deshmukh      6\n",
       "Rachit Srivastava     0\n",
       "Name: 10B, dtype: int64"
      ]
     },
     "execution_count": 37,
     "metadata": {},
     "output_type": "execute_result"
    }
   ],
   "source": [
    "cb.loc[\"10B\"]"
   ]
  },
  {
   "cell_type": "code",
   "execution_count": null,
   "id": "d49b9436",
   "metadata": {},
   "outputs": [
    {
     "data": {
      "text/plain": [
       "'Praneel Deshmukh'"
      ]
     },
     "execution_count": 38,
     "metadata": {},
     "output_type": "execute_result"
    }
   ],
   "source": [
    "# which student got higheest marks in 10b\n",
    "cb.loc[\"10B\"].idxmax()"
   ]
  },
  {
   "cell_type": "code",
   "execution_count": 39,
   "id": "ca6a64e4",
   "metadata": {},
   "outputs": [
    {
     "data": {
      "text/html": [
       "<div>\n",
       "<style scoped>\n",
       "    .dataframe tbody tr th:only-of-type {\n",
       "        vertical-align: middle;\n",
       "    }\n",
       "\n",
       "    .dataframe tbody tr th {\n",
       "        vertical-align: top;\n",
       "    }\n",
       "\n",
       "    .dataframe thead th {\n",
       "        text-align: right;\n",
       "    }\n",
       "</style>\n",
       "<table border=\"1\" class=\"dataframe\">\n",
       "  <thead>\n",
       "    <tr style=\"text-align: right;\">\n",
       "      <th></th>\n",
       "      <th>Aadityaraje Desai</th>\n",
       "      <th>Abhichandra Charke</th>\n",
       "      <th>Praneel Deshmukh</th>\n",
       "      <th>Rachit Srivastava</th>\n",
       "    </tr>\n",
       "  </thead>\n",
       "  <tbody>\n",
       "    <tr>\n",
       "      <th>10A</th>\n",
       "      <td>5</td>\n",
       "      <td>3</td>\n",
       "      <td>2</td>\n",
       "      <td>0</td>\n",
       "    </tr>\n",
       "    <tr>\n",
       "      <th>10B</th>\n",
       "      <td>2</td>\n",
       "      <td>2</td>\n",
       "      <td>6</td>\n",
       "      <td>0</td>\n",
       "    </tr>\n",
       "    <tr>\n",
       "      <th>10C</th>\n",
       "      <td>3</td>\n",
       "      <td>7</td>\n",
       "      <td>4</td>\n",
       "      <td>0</td>\n",
       "    </tr>\n",
       "    <tr>\n",
       "      <th>10D</th>\n",
       "      <td>1</td>\n",
       "      <td>3</td>\n",
       "      <td>9</td>\n",
       "      <td>0</td>\n",
       "    </tr>\n",
       "    <tr>\n",
       "      <th>10E</th>\n",
       "      <td>2</td>\n",
       "      <td>1</td>\n",
       "      <td>9</td>\n",
       "      <td>0</td>\n",
       "    </tr>\n",
       "    <tr>\n",
       "      <th>10F</th>\n",
       "      <td>8</td>\n",
       "      <td>0</td>\n",
       "      <td>2</td>\n",
       "      <td>1</td>\n",
       "    </tr>\n",
       "    <tr>\n",
       "      <th>10G</th>\n",
       "      <td>5</td>\n",
       "      <td>1</td>\n",
       "      <td>4</td>\n",
       "      <td>1</td>\n",
       "    </tr>\n",
       "    <tr>\n",
       "      <th>10H</th>\n",
       "      <td>5</td>\n",
       "      <td>1</td>\n",
       "      <td>5</td>\n",
       "      <td>0</td>\n",
       "    </tr>\n",
       "    <tr>\n",
       "      <th>10I</th>\n",
       "      <td>6</td>\n",
       "      <td>4</td>\n",
       "      <td>7</td>\n",
       "      <td>0</td>\n",
       "    </tr>\n",
       "    <tr>\n",
       "      <th>10J</th>\n",
       "      <td>2</td>\n",
       "      <td>2</td>\n",
       "      <td>11</td>\n",
       "      <td>0</td>\n",
       "    </tr>\n",
       "    <tr>\n",
       "      <th>11A</th>\n",
       "      <td>9</td>\n",
       "      <td>1</td>\n",
       "      <td>9</td>\n",
       "      <td>2</td>\n",
       "    </tr>\n",
       "    <tr>\n",
       "      <th>11B</th>\n",
       "      <td>2</td>\n",
       "      <td>1</td>\n",
       "      <td>1</td>\n",
       "      <td>1</td>\n",
       "    </tr>\n",
       "    <tr>\n",
       "      <th>11C</th>\n",
       "      <td>0</td>\n",
       "      <td>0</td>\n",
       "      <td>0</td>\n",
       "      <td>0</td>\n",
       "    </tr>\n",
       "    <tr>\n",
       "      <th>11D</th>\n",
       "      <td>0</td>\n",
       "      <td>0</td>\n",
       "      <td>0</td>\n",
       "      <td>0</td>\n",
       "    </tr>\n",
       "    <tr>\n",
       "      <th>11E</th>\n",
       "      <td>4</td>\n",
       "      <td>5</td>\n",
       "      <td>3</td>\n",
       "      <td>0</td>\n",
       "    </tr>\n",
       "    <tr>\n",
       "      <th>12A</th>\n",
       "      <td>3</td>\n",
       "      <td>0</td>\n",
       "      <td>1</td>\n",
       "      <td>0</td>\n",
       "    </tr>\n",
       "    <tr>\n",
       "      <th>12B</th>\n",
       "      <td>1</td>\n",
       "      <td>1</td>\n",
       "      <td>1</td>\n",
       "      <td>3</td>\n",
       "    </tr>\n",
       "    <tr>\n",
       "      <th>12C</th>\n",
       "      <td>0</td>\n",
       "      <td>0</td>\n",
       "      <td>8</td>\n",
       "      <td>0</td>\n",
       "    </tr>\n",
       "    <tr>\n",
       "      <th>12D</th>\n",
       "      <td>4</td>\n",
       "      <td>4</td>\n",
       "      <td>1</td>\n",
       "      <td>0</td>\n",
       "    </tr>\n",
       "    <tr>\n",
       "      <th>9A</th>\n",
       "      <td>10</td>\n",
       "      <td>0</td>\n",
       "      <td>5</td>\n",
       "      <td>1</td>\n",
       "    </tr>\n",
       "    <tr>\n",
       "      <th>9B</th>\n",
       "      <td>9</td>\n",
       "      <td>0</td>\n",
       "      <td>4</td>\n",
       "      <td>0</td>\n",
       "    </tr>\n",
       "    <tr>\n",
       "      <th>9C</th>\n",
       "      <td>10</td>\n",
       "      <td>5</td>\n",
       "      <td>3</td>\n",
       "      <td>3</td>\n",
       "    </tr>\n",
       "    <tr>\n",
       "      <th>9D</th>\n",
       "      <td>12</td>\n",
       "      <td>2</td>\n",
       "      <td>7</td>\n",
       "      <td>1</td>\n",
       "    </tr>\n",
       "    <tr>\n",
       "      <th>9E</th>\n",
       "      <td>3</td>\n",
       "      <td>8</td>\n",
       "      <td>5</td>\n",
       "      <td>0</td>\n",
       "    </tr>\n",
       "    <tr>\n",
       "      <th>9F</th>\n",
       "      <td>8</td>\n",
       "      <td>3</td>\n",
       "      <td>7</td>\n",
       "      <td>0</td>\n",
       "    </tr>\n",
       "    <tr>\n",
       "      <th>9G</th>\n",
       "      <td>6</td>\n",
       "      <td>5</td>\n",
       "      <td>4</td>\n",
       "      <td>1</td>\n",
       "    </tr>\n",
       "    <tr>\n",
       "      <th>9H</th>\n",
       "      <td>2</td>\n",
       "      <td>2</td>\n",
       "      <td>11</td>\n",
       "      <td>0</td>\n",
       "    </tr>\n",
       "    <tr>\n",
       "      <th>9I</th>\n",
       "      <td>11</td>\n",
       "      <td>0</td>\n",
       "      <td>5</td>\n",
       "      <td>0</td>\n",
       "    </tr>\n",
       "    <tr>\n",
       "      <th>9J</th>\n",
       "      <td>7</td>\n",
       "      <td>3</td>\n",
       "      <td>10</td>\n",
       "      <td>1</td>\n",
       "    </tr>\n",
       "    <tr>\n",
       "      <th>absentees</th>\n",
       "      <td>4</td>\n",
       "      <td>6</td>\n",
       "      <td>4</td>\n",
       "      <td>1</td>\n",
       "    </tr>\n",
       "    <tr>\n",
       "      <th>candidates</th>\n",
       "      <td>4</td>\n",
       "      <td>0</td>\n",
       "      <td>3</td>\n",
       "      <td>0</td>\n",
       "    </tr>\n",
       "  </tbody>\n",
       "</table>\n",
       "</div>"
      ],
      "text/plain": [
       "            Aadityaraje Desai  Abhichandra Charke  Praneel Deshmukh  \\\n",
       "10A                         5                   3                 2   \n",
       "10B                         2                   2                 6   \n",
       "10C                         3                   7                 4   \n",
       "10D                         1                   3                 9   \n",
       "10E                         2                   1                 9   \n",
       "10F                         8                   0                 2   \n",
       "10G                         5                   1                 4   \n",
       "10H                         5                   1                 5   \n",
       "10I                         6                   4                 7   \n",
       "10J                         2                   2                11   \n",
       "11A                         9                   1                 9   \n",
       "11B                         2                   1                 1   \n",
       "11C                         0                   0                 0   \n",
       "11D                         0                   0                 0   \n",
       "11E                         4                   5                 3   \n",
       "12A                         3                   0                 1   \n",
       "12B                         1                   1                 1   \n",
       "12C                         0                   0                 8   \n",
       "12D                         4                   4                 1   \n",
       "9A                         10                   0                 5   \n",
       "9B                          9                   0                 4   \n",
       "9C                         10                   5                 3   \n",
       "9D                         12                   2                 7   \n",
       "9E                          3                   8                 5   \n",
       "9F                          8                   3                 7   \n",
       "9G                          6                   5                 4   \n",
       "9H                          2                   2                11   \n",
       "9I                         11                   0                 5   \n",
       "9J                          7                   3                10   \n",
       "absentees                   4                   6                 4   \n",
       "candidates                  4                   0                 3   \n",
       "\n",
       "            Rachit Srivastava  \n",
       "10A                         0  \n",
       "10B                         0  \n",
       "10C                         0  \n",
       "10D                         0  \n",
       "10E                         0  \n",
       "10F                         1  \n",
       "10G                         1  \n",
       "10H                         0  \n",
       "10I                         0  \n",
       "10J                         0  \n",
       "11A                         2  \n",
       "11B                         1  \n",
       "11C                         0  \n",
       "11D                         0  \n",
       "11E                         0  \n",
       "12A                         0  \n",
       "12B                         3  \n",
       "12C                         0  \n",
       "12D                         0  \n",
       "9A                          1  \n",
       "9B                          0  \n",
       "9C                          3  \n",
       "9D                          1  \n",
       "9E                          0  \n",
       "9F                          0  \n",
       "9G                          1  \n",
       "9H                          0  \n",
       "9I                          0  \n",
       "9J                          1  \n",
       "absentees                   1  \n",
       "candidates                  0  "
      ]
     },
     "execution_count": 39,
     "metadata": {},
     "output_type": "execute_result"
    }
   ],
   "source": [
    "cb"
   ]
  },
  {
   "cell_type": "code",
   "execution_count": null,
   "id": "80bba9ca",
   "metadata": {},
   "outputs": [
    {
     "data": {
      "text/plain": [
       "Aadityaraje Desai     4.774194\n",
       "Abhichandra Charke    2.258065\n",
       "Praneel Deshmukh      4.870968\n",
       "Rachit Srivastava     0.516129\n",
       "dtype: float64"
      ]
     },
     "execution_count": 40,
     "metadata": {},
     "output_type": "execute_result"
    }
   ],
   "source": [
    "# average votes per student\n",
    "cb.mean()"
   ]
  },
  {
   "cell_type": "code",
   "execution_count": null,
   "id": "53e8cbd9",
   "metadata": {},
   "outputs": [
    {
     "data": {
      "text/html": [
       "<div>\n",
       "<style scoped>\n",
       "    .dataframe tbody tr th:only-of-type {\n",
       "        vertical-align: middle;\n",
       "    }\n",
       "\n",
       "    .dataframe tbody tr th {\n",
       "        vertical-align: top;\n",
       "    }\n",
       "\n",
       "    .dataframe thead th {\n",
       "        text-align: right;\n",
       "    }\n",
       "</style>\n",
       "<table border=\"1\" class=\"dataframe\">\n",
       "  <thead>\n",
       "    <tr style=\"text-align: right;\">\n",
       "      <th></th>\n",
       "      <th>Aadityaraje Desai</th>\n",
       "      <th>Abhichandra Charke</th>\n",
       "      <th>Praneel Deshmukh</th>\n",
       "      <th>Rachit Srivastava</th>\n",
       "    </tr>\n",
       "  </thead>\n",
       "  <tbody>\n",
       "    <tr>\n",
       "      <th>0</th>\n",
       "      <td>2</td>\n",
       "      <td>0</td>\n",
       "      <td>4</td>\n",
       "      <td>0</td>\n",
       "    </tr>\n",
       "  </tbody>\n",
       "</table>\n",
       "</div>"
      ],
      "text/plain": [
       "   Aadityaraje Desai  Abhichandra Charke  Praneel Deshmukh  Rachit Srivastava\n",
       "0                  2                   0                 4                  0"
      ]
     },
     "execution_count": 42,
     "metadata": {},
     "output_type": "execute_result"
    }
   ],
   "source": [
    "# mode of votes per studnet\n",
    "cb.mode()"
   ]
  },
  {
   "cell_type": "code",
   "execution_count": 43,
   "id": "77dd25ba",
   "metadata": {},
   "outputs": [
    {
     "data": {
      "text/plain": [
       "Aadityaraje Desai     4.0\n",
       "Abhichandra Charke    2.0\n",
       "Praneel Deshmukh      4.0\n",
       "Rachit Srivastava     0.0\n",
       "dtype: float64"
      ]
     },
     "execution_count": 43,
     "metadata": {},
     "output_type": "execute_result"
    }
   ],
   "source": [
    "# median votes per student\n",
    "cb.median()"
   ]
  },
  {
   "cell_type": "code",
   "execution_count": null,
   "id": "90d3d8f6",
   "metadata": {},
   "outputs": [],
   "source": [
    "hello"
   ]
  }
 ],
 "metadata": {
  "kernelspec": {
   "display_name": "venv",
   "language": "python",
   "name": "python3"
  },
  "language_info": {
   "codemirror_mode": {
    "name": "ipython",
    "version": 3
   },
   "file_extension": ".py",
   "mimetype": "text/x-python",
   "name": "python",
   "nbconvert_exporter": "python",
   "pygments_lexer": "ipython3",
   "version": "3.12.3"
  }
 },
 "nbformat": 4,
 "nbformat_minor": 5
}
