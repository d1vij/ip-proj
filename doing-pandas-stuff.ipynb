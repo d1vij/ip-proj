{
 "cells": [
  {
   "cell_type": "code",
   "execution_count": 84,
   "id": "063135fc",
   "metadata": {},
   "outputs": [],
   "source": [
    "from preprocessing_to_pandas_stuff import create_dataframes"
   ]
  },
  {
   "cell_type": "code",
   "execution_count": 85,
   "id": "1da851f4",
   "metadata": {},
   "outputs": [],
   "source": [
    "dataframes = create_dataframes()"
   ]
  },
  {
   "cell_type": "code",
   "execution_count": 90,
   "id": "8f811841",
   "metadata": {},
   "outputs": [],
   "source": [
    "vcb = dataframes[\"Vice Captain Boy\"]"
   ]
  }
 ],
 "metadata": {
  "kernelspec": {
   "display_name": "venv",
   "language": "python",
   "name": "python3"
  },
  "language_info": {
   "codemirror_mode": {
    "name": "ipython",
    "version": 3
   },
   "file_extension": ".py",
   "mimetype": "text/x-python",
   "name": "python",
   "nbconvert_exporter": "python",
   "pygments_lexer": "ipython3",
   "version": "3.12.3"
  }
 },
 "nbformat": 4,
 "nbformat_minor": 5
}
