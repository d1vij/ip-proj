{
 "cells": [
  {
   "cell_type": "code",
   "execution_count": 3,
   "id": "ca673f56",
   "metadata": {},
   "outputs": [
    {
     "name": "stdout",
     "output_type": "stream",
     "text": [
      "Hello world !!!\n"
     ]
    }
   ],
   "source": [
    "print(\"Hello world !!!\")"
   ]
  },
  {
   "cell_type": "code",
   "execution_count": 6,
   "id": "54b44dc3",
   "metadata": {},
   "outputs": [
    {
     "name": "stdout",
     "output_type": "stream",
     "text": [
      "0\n",
      "10\n",
      "20\n",
      "30\n",
      "40\n",
      "50\n",
      "60\n",
      "70\n",
      "80\n",
      "90\n",
      "100\n",
      "110\n",
      "120\n",
      "130\n",
      "140\n"
     ]
    }
   ],
   "source": [
    "for i in range(15):\n",
    "    print(i * 10)\n"
   ]
  },
  {
   "cell_type": "code",
   "execution_count": 1,
   "id": "e68f59cd",
   "metadata": {},
   "outputs": [
    {
     "name": "stdout",
     "output_type": "stream",
     "text": [
      "Using system Commands\n"
     ]
    }
   ],
   "source": [
    "!echo \"Using system Commands\""
   ]
  },
  {
   "cell_type": "code",
   "execution_count": 7,
   "id": "36f35de9",
   "metadata": {
    "vscode": {
     "languageId": "html"
    }
   },
   "outputs": [],
   "source": [
    "%%script false --no-raise-error\n",
    "<h1>HTML Test</h1>\n",
    "<p style=\"text-decoration: underline;\">Inline as well as Css file based styling is possiblle</p>"
   ]
  }
 ],
 "metadata": {
  "kernelspec": {
   "display_name": ".venv",
   "language": "python",
   "name": "python3"
  },
  "language_info": {
   "codemirror_mode": {
    "name": "ipython",
    "version": 3
   },
   "file_extension": ".py",
   "mimetype": "text/x-python",
   "name": "python",
   "nbconvert_exporter": "python",
   "pygments_lexer": "ipython3",
   "version": "3.12.3"
  }
 },
 "nbformat": 4,
 "nbformat_minor": 5
}
